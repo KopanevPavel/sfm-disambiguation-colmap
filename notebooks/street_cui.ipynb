{
 "cells": [
  {
   "cell_type": "code",
   "execution_count": 1,
   "id": "0771f1d5-422b-4395-921a-cd6f47a23fdf",
   "metadata": {},
   "outputs": [],
   "source": [
    "%load_ext autoreload\n",
    "%autoreload 2"
   ]
  },
  {
   "cell_type": "code",
   "execution_count": 2,
   "id": "ea0bf053-4285-4b7a-930c-3c2c739e517e",
   "metadata": {},
   "outputs": [],
   "source": [
    "import numpy as np\n",
    "import os\n",
    "import networkx as nx\n",
    "import subprocess\n",
    "import glob\n",
    "from pathlib import Path\n",
    "from matplotlib import pyplot as plt\n",
    "from ipywidgets import interact, FloatSlider, IntSlider"
   ]
  },
  {
   "cell_type": "code",
   "execution_count": 3,
   "id": "d96df189-8a80-48c0-b828-cdccfafa1992",
   "metadata": {},
   "outputs": [],
   "source": [
    "dataset_name = 'street'\n",
    "feature_type = 'sift_default'\n",
    "matching_type = 'sift_default'\n",
    "geometric_verification_type = 'default'\n",
    "colmap_path = 'colmap'"
   ]
  },
  {
   "cell_type": "code",
   "execution_count": 4,
   "id": "33825bde-024c-4c71-81c5-2bb70ba6e73f",
   "metadata": {},
   "outputs": [],
   "source": [
    "os.environ['MKL_THREADING_LAYER'] = 'GNU'\n",
    "output1 = subprocess.run(['python', '../scripts/match_features.py',\n",
    "                         '--dataset_name', dataset_name,\n",
    "                         '--feature_type', feature_type,\n",
    "                         '--matching_type', matching_type,\n",
    "                         '--geometric_verification_type', geometric_verification_type,\n",
    "                         '--colmap_path', colmap_path,\n",
    "                         '--use_gpu'], capture_output=True)"
   ]
  },
  {
   "cell_type": "code",
   "execution_count": 5,
   "id": "572a23bd-11c4-49a2-b969-b42582c903bc",
   "metadata": {},
   "outputs": [],
   "source": [
    "# print(str(output1.stdout, 'utf-8'))\n",
    "# print(str(output1.stderr, 'utf-8'))"
   ]
  },
  {
   "cell_type": "code",
   "execution_count": 6,
   "id": "97a0cc73-0f73-438d-a8d2-d29cb17c5d58",
   "metadata": {},
   "outputs": [],
   "source": [
    "score_version = '2'\n",
    "min_num_valid_depths = '5'\n",
    "max_num_neighbors = '80'\n",
    "square_radius = '20'"
   ]
  },
  {
   "cell_type": "code",
   "execution_count": 7,
   "id": "c72ce32a-b146-4a79-aa07-a4606c5cfb05",
   "metadata": {},
   "outputs": [],
   "source": [
    "output2 = subprocess.run(['python', '../scripts/disambiguate_cui.py',\n",
    "                         '--dataset_name', dataset_name,\n",
    "                         '--feature_type', feature_type,\n",
    "                         '--matching_type', matching_type,\n",
    "                         '--geometric_verification_type', geometric_verification_type,\n",
    "                         '--score_version', score_version,\n",
    "                         '--min_num_valid_depths', min_num_valid_depths,\n",
    "                         '--max_num_neighbors', max_num_neighbors,\n",
    "                         '--square_radius', square_radius,\n",
    "                         '--parallel',\n",
    "                         '--plot'], capture_output=True)"
   ]
  },
  {
   "cell_type": "code",
   "execution_count": 8,
   "id": "dc5c6b6e-2974-4f70-a891-4807aa9faf19",
   "metadata": {
    "tags": []
   },
   "outputs": [],
   "source": [
    "# print(str(output2.stdout, 'utf-8'))\n",
    "# print(str(output2.stderr, 'utf-8'))"
   ]
  },
  {
   "cell_type": "code",
   "execution_count": 9,
   "id": "82d54ef0-eac1-4467-8c77-f7a06e089171",
   "metadata": {
    "tags": []
   },
   "outputs": [],
   "source": [
    "root = Path.cwd().parents[0]\n",
    "results_path = (root / 'results' / dataset_name /\n",
    "                '_'.join([feature_type, matching_type, geometric_verification_type]))\n",
    "scores_name = 'scores' + f'_cui_v{score_version}_d{min_num_valid_depths}' + \\\n",
    "              f'_n{max_num_neighbors}_r{square_radius}_p.npy'\n",
    "scores = np.load(results_path / scores_name)"
   ]
  },
  {
   "cell_type": "code",
   "execution_count": 10,
   "id": "dd3e9659-e47f-4986-bf15-019ea3035b92",
   "metadata": {},
   "outputs": [
    {
     "data": {
      "application/vnd.jupyter.widget-view+json": {
       "model_id": "0df416ddfffb4e9bbd52dfdea99d6ea0",
       "version_major": 2,
       "version_minor": 0
      },
      "text/plain": [
       "interactive(children=(FloatSlider(value=0.1, description='thres', max=1.0, step=0.01), Output()), _dom_classes…"
      ]
     },
     "metadata": {},
     "output_type": "display_data"
    }
   ],
   "source": [
    "@interact(thres=FloatSlider(value=0.1, min=0.0, max=1.0, step=0.01))\n",
    "def plot(thres):\n",
    "    valid_scores = scores.copy()\n",
    "    valid_scores[scores < thres] = 0.\n",
    "    graph = nx.from_numpy_matrix(valid_scores)\n",
    "    pos = nx.nx_agraph.graphviz_layout(graph)\n",
    "    edge_vmin = np.percentile(valid_scores[valid_scores.nonzero()], 10)\n",
    "    edge_vmax = np.percentile(valid_scores[valid_scores.nonzero()], 90)\n",
    "    nx.draw(graph, pos, with_labels=True, edge_cmap=plt.cm.YlOrRd,\n",
    "            edge_color=[graph[u][v]['weight'] for u, v in graph.edges],\n",
    "            edge_vmin=edge_vmin, edge_vmax=edge_vmax)\n",
    "    plt.show()"
   ]
  },
  {
   "cell_type": "code",
   "execution_count": 14,
   "id": "3ce0562b-6b53-4eeb-aef5-16f1fb721676",
   "metadata": {},
   "outputs": [
    {
     "data": {
      "application/vnd.jupyter.widget-view+json": {
       "model_id": "bedaaed7d93e443cb72404543cf6d21b",
       "version_major": 2,
       "version_minor": 0
      },
      "text/plain": [
       "interactive(children=(IntSlider(value=3, description='k', max=10, min=1), Output()), _dom_classes=('widget-int…"
      ]
     },
     "metadata": {},
     "output_type": "display_data"
    }
   ],
   "source": [
    "@interact(k=IntSlider(value=3, min=1, max=10, step=1))\n",
    "def plot(k):\n",
    "    valid = np.zeros_like(scores, dtype=np.bool)\n",
    "    valid_indices = scores.argsort()[:, -k:]\n",
    "    for i in range(scores.shape[0]):\n",
    "        for j in valid_indices[i]:\n",
    "            valid[i, j] = True\n",
    "    valid_scores = np.zeros_like(scores)\n",
    "    valid_scores[valid] = scores[valid] \n",
    "    graph = nx.from_numpy_matrix(valid_scores)\n",
    "    pos = nx.nx_agraph.graphviz_layout(graph)\n",
    "    edge_vmin = np.percentile(valid_scores[valid_scores.nonzero()], 10)\n",
    "    edge_vmax = np.percentile(valid_scores[valid_scores.nonzero()], 90)\n",
    "    nx.draw(graph, pos, with_labels=True, edge_cmap=plt.cm.YlOrRd,\n",
    "            edge_color=[graph[u][v]['weight'] for u, v in graph.edges],\n",
    "            edge_vmin=edge_vmin, edge_vmax=edge_vmax)\n",
    "    plt.show()"
   ]
  },
  {
   "cell_type": "code",
   "execution_count": 11,
   "id": "b00b1709-d2e8-4a3f-b5e8-dca0a3fe35b5",
   "metadata": {},
   "outputs": [],
   "source": [
    "filter_type = 'threshold'\n",
    "threshold = '0.50'\n",
    "output3 = subprocess.run(['python', '../scripts/filter_matches.py',\n",
    "                         '--dataset_name', dataset_name,\n",
    "                         '--feature_type', feature_type,\n",
    "                         '--matching_type', matching_type,\n",
    "                         '--geometric_verification_type', geometric_verification_type,\n",
    "                         '--colmap_path', colmap_path,\n",
    "                         '--scores_name', scores_name,\n",
    "                         '--filter_type', filter_type,\n",
    "                         '--threshold', threshold,\n",
    "                         # '--reconstruct_unfiltered',\n",
    "                         '--reconstruct_filtered'], capture_output=True)"
   ]
  },
  {
   "cell_type": "code",
   "execution_count": 13,
   "id": "dacb6104-3d25-4a4c-a372-36157a1dfad1",
   "metadata": {},
   "outputs": [],
   "source": [
    "filter_type = 'knn'\n",
    "topk = '3'\n",
    "output3 = subprocess.run(['python', '../scripts/filter_matches.py',\n",
    "                         '--dataset_name', dataset_name,\n",
    "                         '--feature_type', feature_type,\n",
    "                         '--matching_type', matching_type,\n",
    "                         '--geometric_verification_type', geometric_verification_type,\n",
    "                         '--colmap_path', colmap_path,\n",
    "                         '--scores_name', scores_name,\n",
    "                         '--filter_type', filter_type,\n",
    "                         '--topk', topk,\n",
    "                         # '--reconstruct_unfiltered',\n",
    "                         '--reconstruct_filtered'], capture_output=True)"
   ]
  },
  {
   "cell_type": "code",
   "execution_count": 14,
   "id": "9ce34ba8-58f5-42a0-b69b-337528cb007b",
   "metadata": {
    "tags": []
   },
   "outputs": [],
   "source": [
    "# print(str(output3.stderr, 'utf-8'))\n",
    "# print(str(output3.stdout, 'utf-8'))"
   ]
  },
  {
   "cell_type": "code",
   "execution_count": 12,
   "id": "04cdcf90-5024-440d-9a8f-6e488f7e2dd1",
   "metadata": {},
   "outputs": [
    {
     "name": "stdout",
     "output_type": "stream",
     "text": [
      "Jupyter environment detected. Enabling Open3D WebVisualizer.\n",
      "[Open3D INFO] WebRTC GUI backend enabled.\n",
      "[Open3D INFO] WebRTCWindowSystem: HTTP handshake server disabled.\n"
     ]
    }
   ],
   "source": [
    "from disambiguation.utils import visualize_model\n",
    "backbone = f'_cui_v{score_version}_d{min_num_valid_depths}' + \\\n",
    "              f'_n{max_num_neighbors}_r{square_radius}_p'"
   ]
  },
  {
   "cell_type": "code",
   "execution_count": 13,
   "id": "42d8681d-ffec-48ac-9327-d66a07baa220",
   "metadata": {},
   "outputs": [
    {
     "name": "stdout",
     "output_type": "stream",
     "text": [
      "num_cameras: 1\n",
      "num_images: 19\n",
      "num_points3D: 3951\n"
     ]
    }
   ],
   "source": [
    "input_model = results_path / ('sparse' + backbone + f'_t{threshold}') / '0'\n",
    "input_format = '.bin'\n",
    "visualize_model.main(input_model, input_format)"
   ]
  },
  {
   "cell_type": "code",
   "execution_count": 17,
   "id": "48ed4ade-20a6-42c4-a7a2-6bf1f4ec4507",
   "metadata": {},
   "outputs": [
    {
     "name": "stdout",
     "output_type": "stream",
     "text": [
      "num_cameras: 1\n",
      "num_images: 19\n",
      "num_points3D: 3265\n"
     ]
    }
   ],
   "source": [
    "input_model = results_path / ('sparse' + backbone + f'_k{topk}') / '0'\n",
    "input_format = '.bin'\n",
    "visualize_model.main(input_model, input_format)"
   ]
  },
  {
   "cell_type": "code",
   "execution_count": null,
   "id": "5315bd45-ee8f-45e1-993e-564df4f4eb83",
   "metadata": {},
   "outputs": [],
   "source": []
  }
 ],
 "metadata": {
  "kernelspec": {
   "display_name": "Python 3",
   "language": "python",
   "name": "python3"
  },
  "language_info": {
   "codemirror_mode": {
    "name": "ipython",
    "version": 3
   },
   "file_extension": ".py",
   "mimetype": "text/x-python",
   "name": "python",
   "nbconvert_exporter": "python",
   "pygments_lexer": "ipython3",
   "version": "3.8.8"
  }
 },
 "nbformat": 4,
 "nbformat_minor": 5
}
